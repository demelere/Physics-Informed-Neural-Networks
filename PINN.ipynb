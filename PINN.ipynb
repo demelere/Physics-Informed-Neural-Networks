{
 "cells": [
  {
   "cell_type": "code",
   "execution_count": null,
   "metadata": {},
   "outputs": [],
   "source": [
    "import tensorflow as tf\n",
    "import numpy as np "
   ]
  },
  {
   "cell_type": "code",
   "execution_count": null,
   "metadata": {},
   "outputs": [],
   "source": [
    "class LagrangianNN(tf.keras.Model):\n",
    "    def __init__(self, input_dim, hidden_layers):\n",
    "        super(LagrangianNN, self).__init__()\n",
    "        self.hidden_layers = [tf.keras.layers.Dense(units, activation='relu') for units in hidden_layers]\n",
    "        self.output_layer = tf.keras.layers.Dense(1, activation='linear')\n",
    "\n",
    "    def call(self, inputs):\n",
    "        x = inputs\n",
    "        for layer in self.hidden_layers:\n",
    "                x = layer(x)\n",
    "    return self.output_layer(x)\n",
    "\n",
    "    def lagrangian_loss(model, inputs, outputs, actuator_forces):\n",
    "    # Predicted Lagrangian\n",
    "    L_predicted = model(inputs)\n",
    "    \n",
    "    # Compute the derivative of L w.r.t inputs\n",
    "    with tf.GradientTape() as tape:\n",
    "        tape.watch(inputs)\n",
    "        L = model(inputs)\n",
    "    dL_dq = tape.gradient(L, inputs)\n",
    "\n",
    "    # Compute the loss (mean squared error)\n",
    "    loss = tf.reduce_mean(tf.square(dL_dq - outputs - actuator_forces))\n",
    "    return loss\n",
    "\n",
    "\n"
   ]
  },
  {
   "cell_type": "code",
   "execution_count": null,
   "metadata": {},
   "outputs": [],
   "source": [
    "class HamiltonianNN(tf.keras.Model):\n",
    "    def __init__(self, input_dim, hidden_layers):\n",
    "        super(HamiltonianNN, self).__init__()\n",
    "        self.hidden_layers = [tf.keras.layers.Dense(units, activation='relu') for units in hidden_layers]\n",
    "        self.output_layer = tf.keras.layers.Dense(1, activation='linear')\n",
    "\n",
    "    def call(self, inputs):\n",
    "        x = inputs\n",
    "        for layer in self.hidden_layers:\n",
    "            x = layer(x)\n",
    "        return self.output_layer(x)"
   ]
  },
  {
   "cell_type": "code",
   "execution_count": null,
   "metadata": {},
   "outputs": [],
   "source": []
  }
 ],
 "metadata": {
  "language_info": {
   "name": "python"
  }
 },
 "nbformat": 4,
 "nbformat_minor": 2
}
