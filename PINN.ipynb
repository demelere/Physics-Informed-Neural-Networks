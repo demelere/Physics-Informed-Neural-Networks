{
 "cells": [
  {
   "cell_type": "code",
   "execution_count": null,
   "metadata": {},
   "outputs": [],
   "source": [
    "import torch\n",
    "import torch.nn as nn\n",
    "import torch.optim as optim"
   ]
  },
  {
   "cell_type": "code",
   "execution_count": null,
   "metadata": {},
   "outputs": [],
   "source": [
    "class LagrangianNN(nn.Module):\n",
    "    def __init__(self, input_dim, hidden_layers):\n",
    "        super(LagrangianNN, self).__init__()\n",
    "        layers = []\n",
    "        last_dim = input_dim\n",
    "        for layer_size in hidden_layers:\n",
    "            layers.append(nn.Linear(last_dim, layer_size))\n",
    "            layers.append(nn.ReLU())\n",
    "            last_dim = layer_size\n",
    "        layers.append(nn.Linear(last_dim, 1))\n",
    "        self.net = nn.Sequential(*layers)\n",
    "\n",
    "    def forward(self, q, q_dot):\n",
    "        inputs = torch.cat([q, q_dot], dim=1) # concatenate q and q_dot for the input\n",
    "        return self.net(inputs)"
   ]
  },
  {
   "cell_type": "code",
   "execution_count": null,
   "metadata": {},
   "outputs": [],
   "source": [
    "def lagrangian_loss(model, q, q_dot, q_dot_dot, actuator_forces):\n",
    "    L = model(q, q_dot)\n",
    "    L_grad = torch.autograd.grad(L.sum(), q_dot, create_graph=True)[0]\n",
    "    \n",
    "    predicted_q_dot_dot = torch.autograd.grad(L_grad.sum(), q, -actuator_forces, create_graph=True)[0]\n",
    "    \n",
    "    return ((predicted_q_dot_dot - q_dot_dot) ** 2).mean()\n"
   ]
  },
  {
   "cell_type": "code",
   "execution_count": null,
   "metadata": {},
   "outputs": [],
   "source": [
    "class HamiltonianNN(nn.Module):\n",
    "    def __init__(self, input_dim, hidden_layers):\n",
    "        super(HamiltonianNN, self).__init__()\n",
    "        layers = []\n",
    "        last_dim = input_dim\n",
    "        for layer_size in hidden_layers:\n",
    "            layers.append(nn.Linear(last_dim, layer_size))\n",
    "            layers.append(nn.ReLU())\n",
    "            last_dim = layer_size\n",
    "        layers.append(nn.Linear(last_dim, 1))\n",
    "        self.net = nn.Sequential(*layers)\n",
    "\n",
    "    def forward(self, q, p):\n",
    "        inputs = torch.cat([q, p], dim=1) # concatenate q and p for the input\n",
    "        return self.net(inputs)"
   ]
  },
  {
   "cell_type": "code",
   "execution_count": null,
   "metadata": {},
   "outputs": [],
   "source": [
    "def hamiltonian_loss(model, q, p, dp_dt, actuator_forces):\n",
    "    H = model(q, p)\n",
    "    H_grad_q = torch.autograd.grad(H.sum(), q, create_graph=True)[0]\n",
    "    H_grad_p = torch.autograd.grad(H.sum(), p, create_graph=True)[0]\n",
    "\n",
    "    predicted_dp_dt = -H_grad_q + actuator_forces\n",
    "    predicted_dq_dt = H_grad_p\n",
    "\n",
    "    return ((predicted_dp_dt - dp_dt) ** 2).mean()"
   ]
  },
  {
   "cell_type": "code",
   "execution_count": null,
   "metadata": {},
   "outputs": [],
   "source": [
    "def train(model, loss_function, optimizer, epochs, train_loader):\n",
    "    model.train()\n",
    "    for epoch in range(epochs):\n",
    "        total_loss = 0\n",
    "        for data in train_loader:\n",
    "            q, q_dot, q_dot_dot, actuator_forces = data # unpack data.  to do: modify with the data\n",
    "\n",
    "            optimizer.zero_grad()\n",
    "            loss = loss_function(model, q, q_dot, q_dot_dot, actuator_forces)\n",
    "            loss.backward()\n",
    "            optimizer.step()\n",
    "\n",
    "            total_loss += loss.item()\n",
    "        print(f'Epoch {epoch}, Loss: {total_loss / len(train_loader)}')\n"
   ]
  },
  {
   "cell_type": "code",
   "execution_count": null,
   "metadata": {},
   "outputs": [],
   "source": [
    "input_dim = 4 # to do: adjust to the robotics problem (q and q_dot dimensionality)\n",
    "hidden_layers = [64, 64]\n",
    "\n",
    "lnn = LagrangianNN(input_dim, hidden_layers)\n",
    "hnn = HamiltonianNN(input_dim, hidden_layers)\n",
    "\n",
    "optimizer_lnn = optim.Adam(lnn.parameters(), lr=0.001)\n",
    "optimizer_hnn = optim.Adam(hnn.parameters(), lr=0.001)\n",
    "\n",
    "train_loader = None # assuming usage of a DataLoader for the dataset, to do: replace with DataLoader\n",
    "\n",
    "train(lnn, lagrangian_loss, optimizer_lnn, 100, train_loader)\n",
    "\n",
    "train(hnn, hamiltonian_loss, optimizer_hnn, 100, train_loader)\n"
   ]
  }
 ],
 "metadata": {
  "language_info": {
   "name": "python"
  }
 },
 "nbformat": 4,
 "nbformat_minor": 2
}
